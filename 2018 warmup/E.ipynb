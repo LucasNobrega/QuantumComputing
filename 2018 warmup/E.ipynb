{
 "cells": [
  {
   "cell_type": "code",
   "execution_count": null,
   "metadata": {},
   "outputs": [],
   "source": [
    "from qiskit import *"
   ]
  },
  {
   "cell_type": "code",
   "execution_count": null,
   "metadata": {},
   "outputs": [],
   "source": [
    "def disting_Bell(circ, q, c, simulator):\n",
    "    circ.cx(q[0], q[1])\n",
    "    circ.h(q[0])\n",
    "    circ.measure(q[0], c[0])\n",
    "    circ.measure(q[1], c[1])\n",
    "    \n",
    "    result = execute(circ, simulator).result()\n",
    "    return result.get_counts(circ)"
   ]
  },
  {
   "cell_type": "code",
   "execution_count": null,
   "metadata": {},
   "outputs": [],
   "source": [
    "#Declaring the circuit\n",
    "q = QuantumRegister(2)\n",
    "c = ClassicalRegister(2)\n",
    "circ = QuantumCircuit(q, c)\n",
    "\n",
    "#Preparing the Qubits to be measured\n",
    "#circ.h(q[0])            #00 + 11\n",
    "#circ.cx(q[0], q[1])\n",
    "\n",
    "#circ.x(q[0])\n",
    "#circ.h(q[0])            #00 - 11\n",
    "#circ.cx(q[0], q[1])\n",
    "\n",
    "#circ.x(q[1])\n",
    "#circ.h(q[0])            #01 + 10\n",
    "#circ.cx(q[0], q[1])\n",
    "\n",
    "circ.x(q[0])\n",
    "circ.x(q[1])\n",
    "circ.h(q[0])            #01 - 10\n",
    "circ.cx(q[0], q[1])\n",
    "\n",
    "circ.draw(output='mpl')"
   ]
  },
  {
   "cell_type": "code",
   "execution_count": null,
   "metadata": {},
   "outputs": [],
   "source": [
    "simulator = Aer.get_backend('qasm_simulator')\n",
    "\n",
    "counts = disting_Bell(circ, q, c, simulator)\n",
    "print(counts)\n",
    "circ.draw(output='mpl')"
   ]
  },
  {
   "cell_type": "code",
   "execution_count": null,
   "metadata": {},
   "outputs": [],
   "source": []
  }
 ],
 "metadata": {
  "kernelspec": {
   "display_name": "Python 3",
   "language": "python",
   "name": "python3"
  },
  "language_info": {
   "codemirror_mode": {
    "name": "ipython",
    "version": 3
   },
   "file_extension": ".py",
   "mimetype": "text/x-python",
   "name": "python",
   "nbconvert_exporter": "python",
   "pygments_lexer": "ipython3",
   "version": "3.6.9"
  }
 },
 "nbformat": 4,
 "nbformat_minor": 4
}
