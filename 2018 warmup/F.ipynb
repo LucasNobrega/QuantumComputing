{
 "cells": [
  {
   "cell_type": "code",
   "execution_count": null,
   "metadata": {},
   "outputs": [],
   "source": [
    "from qiskit import *"
   ]
  },
  {
   "cell_type": "code",
   "execution_count": null,
   "metadata": {},
   "outputs": [],
   "source": [
    "def compare_String(circ, q, c, b0 : str, b1 : str, simulator):\n",
    "\n",
    "    for i in range(len(b0)):\n",
    "        circ.measure(q[i], c[i])\n",
    "    \n",
    "    result = execute(circ, simulator).result()\n",
    "    counts = result.get_counts()\n",
    "    print(counts)\n",
    "    if b0 in counts:\n",
    "        return 0\n",
    "    elif b1 in counts:\n",
    "        return 1\n",
    "    else:\n",
    "        return -1"
   ]
  },
  {
   "cell_type": "code",
   "execution_count": null,
   "metadata": {},
   "outputs": [],
   "source": [
    "#Declare Circuit and Simulator\n",
    "q = QuantumRegister(3)\n",
    "c = ClassicalRegister(3)\n",
    "circ = QuantumCircuit(q, c)\n",
    "simulator = Aer.get_backend('qasm_simulator')\n",
    "\n",
    "#Create State\n",
    "circ.x(q[0])\n",
    "circ.x(q[2])\n",
    "\n",
    "circ.draw(output='mpl')"
   ]
  },
  {
   "cell_type": "code",
   "execution_count": null,
   "metadata": {},
   "outputs": [],
   "source": [
    "print(compare_String(circ, q, c, '000', '101', simulator))"
   ]
  },
  {
   "cell_type": "code",
   "execution_count": null,
   "metadata": {},
   "outputs": [],
   "source": []
  }
 ],
 "metadata": {
  "kernelspec": {
   "display_name": "Python 3",
   "language": "python",
   "name": "python3"
  },
  "language_info": {
   "codemirror_mode": {
    "name": "ipython",
    "version": 3
   },
   "file_extension": ".py",
   "mimetype": "text/x-python",
   "name": "python",
   "nbconvert_exporter": "python",
   "pygments_lexer": "ipython3",
   "version": "3.6.9"
  }
 },
 "nbformat": 4,
 "nbformat_minor": 4
}
