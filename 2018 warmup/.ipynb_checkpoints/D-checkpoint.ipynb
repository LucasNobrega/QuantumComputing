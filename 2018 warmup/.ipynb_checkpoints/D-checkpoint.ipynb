{
 "cells": [
  {
   "cell_type": "code",
   "execution_count": null,
   "metadata": {},
   "outputs": [],
   "source": [
    "from qiskit import *\n",
    "from qiskit.circuit import Measure\n",
    "from qiskit.tools.visualization import plot_histogram"
   ]
  },
  {
   "cell_type": "code",
   "execution_count": null,
   "metadata": {},
   "outputs": [],
   "source": [
    "def disting_H_basis(circ : qiskit.circuit.quantumcircuit.QuantumCircuit,\\\n",
    "                    q : qiskit.circuit.quantumregister.QuantumRegister,\\\n",
    "                    c : qiskit.circuit.classicalregister.ClassicalRegister,\\\n",
    "                    simulator : qiskit.providers.aer.backends.qasm_simulator.QasmSimulator):\n",
    "    circ.h(q[0])\n",
    "    circ.measure(q[0], c[0])\n",
    "    result = execute(circ, backend = simulator).result()\n",
    "    return result.get_counts(circ)"
   ]
  },
  {
   "cell_type": "code",
   "execution_count": null,
   "metadata": {},
   "outputs": [],
   "source": [
    "#Declaring the circuit\n",
    "q = QuantumRegister(1)\n",
    "c = ClassicalRegister(1)\n",
    "circ = QuantumCircuit(q, c)\n",
    "\n",
    "#Preparing the qubit to be measured\n",
    "circ.x(q[0])\n",
    "circ.h(q[0])\n",
    "circ.draw(output='mpl')"
   ]
  },
  {
   "cell_type": "code",
   "execution_count": null,
   "metadata": {},
   "outputs": [],
   "source": [
    "simulator = Aer.get_backend('qasm_simulator')\n",
    "counts = disting_H_basis(circ, q, c, simulator)\n",
    "\n",
    "\n",
    "#print(counts)\n",
    "if '0' in counts and counts['0'] == 1024:\n",
    "    print('The system was in the |+> state')\n",
    "elif '1'in counts and counts['1'] == 1024:\n",
    "    print('The system was in the |-> state')\n",
    "else:\n",
    "    print('The system wasn\\'t in neither |+> nor |-> state')\n",
    "    \n",
    "circ.draw(output='mpl')"
   ]
  }
 ],
 "metadata": {
  "kernelspec": {
   "display_name": "Python 3",
   "language": "python",
   "name": "python3"
  },
  "language_info": {
   "codemirror_mode": {
    "name": "ipython",
    "version": 3
   },
   "file_extension": ".py",
   "mimetype": "text/x-python",
   "name": "python",
   "nbconvert_exporter": "python",
   "pygments_lexer": "ipython3",
   "version": "3.6.9"
  }
 },
 "nbformat": 4,
 "nbformat_minor": 4
}
