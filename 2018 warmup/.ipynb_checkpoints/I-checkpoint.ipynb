{
 "cells": [
  {
   "cell_type": "code",
   "execution_count": null,
   "metadata": {},
   "outputs": [],
   "source": [
    "from qiskit import *\n",
    "import numpy as np\n",
    "\n",
    "from qiskit.visualization import plot_histogram"
   ]
  },
  {
   "cell_type": "code",
   "execution_count": null,
   "metadata": {},
   "outputs": [],
   "source": [
    "#Size of input string for oracle\n",
    "n = 4"
   ]
  },
  {
   "cell_type": "code",
   "execution_count": null,
   "metadata": {},
   "outputs": [],
   "source": [
    "#Constant function/oracle\n",
    "const_oracle = QuantumCircuit(n+1)\n",
    "\n",
    "output = np.random.randint(2)\n",
    "if output == 1:\n",
    "    const_oracle.x(n) \n",
    "\n",
    "const_oracle.draw(output='mpl')"
   ]
  },
  {
   "cell_type": "code",
   "execution_count": null,
   "metadata": {},
   "outputs": [],
   "source": [
    "#Balanced function/oracle\n",
    "balanced_oracle = QuantumCircuit(n+1)\n",
    "\n",
    "b_str = '101'\n",
    "\n",
    "for qubit in range(len(b_str)):\n",
    "    if(b_str[qubit] == '1'):\n",
    "        balanced_oracle.x(qubit)\n",
    "        \n",
    "for qubit in range(n):\n",
    "    balanced_oracle.cx(qubit, n)\n",
    "\n",
    "for qubit in range(len(b_str)):\n",
    "    if b_str[qubit] == '1':\n",
    "        balanced_oracle.x(qubit)        \n",
    "        \n",
    "balanced_oracle.draw(output='mpl')"
   ]
  },
  {
   "cell_type": "code",
   "execution_count": null,
   "metadata": {},
   "outputs": [],
   "source": [
    "dj_circ = QuantumCircuit(n+1, n)\n",
    "\n",
    "dj_circ.x(n)\n",
    "dj_circ.barrier()\n",
    "\n",
    "for qubit in range(n+1):\n",
    "    dj_circ.h(qubit)\n",
    "\n",
    "dj_circ.draw(output='mpl')"
   ]
  },
  {
   "cell_type": "code",
   "execution_count": null,
   "metadata": {},
   "outputs": [],
   "source": [
    "#Apply Oracle\n",
    "from qiskit_textbook.problems import dj_problem_oracle\n",
    "dj_circ.barrier()\n",
    "#oracle = dj_problem_oracle(1, to_gate=False)\n",
    "#oracle = dj_problem_oracle(2, to_gate=False)\n",
    "#oracle = dj_problem_oracle(3, to_gate=False)\n",
    "#oracle = dj_problem_oracle(4, to_gate=False)\n",
    "#oracle = dj_problem_oracle(5, to_gate=False)\n",
    "#oracle = const_oracle\n",
    "#oracle = balanced_oracle\n",
    "\n",
    "dj_circ += oracle\n",
    "dj_circ.barrier()\n",
    "\n",
    "dj_circ.draw(output='mpl')"
   ]
  },
  {
   "cell_type": "code",
   "execution_count": null,
   "metadata": {},
   "outputs": [],
   "source": [
    "for qubit in range(n):\n",
    "    dj_circ.h(qubit)\n",
    "dj_circ.barrier()\n",
    "for i in range(n):\n",
    "    dj_circ.measure(i, i)\n",
    "    \n",
    "dj_circ.draw(output='mpl')"
   ]
  },
  {
   "cell_type": "code",
   "execution_count": null,
   "metadata": {},
   "outputs": [],
   "source": [
    "simulator = Aer.get_backend('qasm_simulator')\n",
    "results = execute(dj_circ, simulator).result()\n",
    "\n",
    "\n",
    "plot_histogram(results.get_counts())\n",
    "\n",
    "#If we only get 000 results, the function is constant. Otherwise, the function is balanced."
   ]
  },
  {
   "cell_type": "code",
   "execution_count": null,
   "metadata": {},
   "outputs": [],
   "source": []
  }
 ],
 "metadata": {
  "kernelspec": {
   "display_name": "Python 3",
   "language": "python",
   "name": "python3"
  },
  "language_info": {
   "codemirror_mode": {
    "name": "ipython",
    "version": 3
   },
   "file_extension": ".py",
   "mimetype": "text/x-python",
   "name": "python",
   "nbconvert_exporter": "python",
   "pygments_lexer": "ipython3",
   "version": "3.6.9"
  }
 },
 "nbformat": 4,
 "nbformat_minor": 4
}
