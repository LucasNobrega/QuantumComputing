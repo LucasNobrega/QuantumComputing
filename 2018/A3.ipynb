{
 "cells": [
  {
   "cell_type": "code",
   "execution_count": null,
   "metadata": {},
   "outputs": [],
   "source": [
    "from qiskit import *\n",
    "from qiskit.visualization import plot_histogram\n",
    "%matplotlib inline"
   ]
  },
  {
   "cell_type": "code",
   "execution_count": null,
   "metadata": {},
   "outputs": [],
   "source": [
    "b0 = input()\n",
    "b1 = input()\n",
    "\n",
    "qc = QuantumCircuit(len(b1), len(b1))\n",
    "first = -1\n",
    "for i in range(0, len(b1)):\n",
    "    if b0[i] == b1[i]:\n",
    "        if b0[i] == '1':\n",
    "            qc.x(i)\n",
    "    else:\n",
    "        if first == -1:\n",
    "            qc.h(i)\n",
    "            first = i\n",
    "        else:\n",
    "            if b0[i] == b0[first]:\n",
    "                qc.cx(first, i)\n",
    "            else:\n",
    "                qc.x(i)\n",
    "                qc.cx(first, i)\n",
    "qc.barrier()\n",
    "for i in range(0, len(b0)):\n",
    "    qc.measure(i, i)\n",
    "\n",
    "qc.draw(output='mpl')"
   ]
  },
  {
   "cell_type": "code",
   "execution_count": null,
   "metadata": {},
   "outputs": [],
   "source": [
    "simulator = Aer.get_backend('qasm_simulator')\n",
    "result = execute(qc, simulator, shots=10000).result()\n",
    "counts = result.get_counts()\n",
    "plot_histogram(counts)"
   ]
  },
  {
   "cell_type": "code",
   "execution_count": null,
   "metadata": {},
   "outputs": [],
   "source": []
  }
 ],
 "metadata": {
  "kernelspec": {
   "display_name": "Python 3",
   "language": "python",
   "name": "python3"
  },
  "language_info": {
   "codemirror_mode": {
    "name": "ipython",
    "version": 3
   },
   "file_extension": ".py",
   "mimetype": "text/x-python",
   "name": "python",
   "nbconvert_exporter": "python",
   "pygments_lexer": "ipython3",
   "version": "3.6.9"
  }
 },
 "nbformat": 4,
 "nbformat_minor": 4
}
