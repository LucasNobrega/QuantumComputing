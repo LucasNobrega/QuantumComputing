{
 "cells": [
  {
   "cell_type": "code",
   "execution_count": null,
   "metadata": {},
   "outputs": [],
   "source": [
    "from qiskit import *\n",
    "import numpy as np\n",
    "import random as rand\n",
    "from qiskit.visualization import plot_histogram"
   ]
  },
  {
   "cell_type": "code",
   "execution_count": null,
   "metadata": {},
   "outputs": [],
   "source": [
    "A = [\n",
    "    [0.5, -0.5, -0.5, -0.5],\n",
    "    [-0.5, 0.5, -0.5, -0.5],\n",
    "    [-0.5, -0.5, 0.5, -0.5],\n",
    "    [-0.5, -0.5, -0.5, 0.5]\n",
    "    ]\n",
    "H = [\n",
    "    [(1.0/np.sqrt(2)),  (1.0/np.sqrt(2))],\n",
    "    [(1.0/np.sqrt(2)), -(1.0/np.sqrt(2))]\n",
    "    ]\n",
    "H_2 = np.kron(H, H)\n",
    "diagonal = np.diag([-1, 1, 1, 1])\n",
    "swap = [\n",
    "        [1, 0, 0, 0],\n",
    "        [0, 0, 1, 0],\n",
    "        [0, 1, 0, 0],\n",
    "        [0, 0, 0, 1]\n",
    "        ]\n",
    "A_teste = np.dot(diagonal, H_2)\n",
    "A_teste = np.dot(A_teste, diagonal)\n",
    "A_teste = np.dot(A_teste, swap)\n",
    "\n",
    "print(A_teste)"
   ]
  },
  {
   "cell_type": "code",
   "execution_count": null,
   "metadata": {},
   "outputs": [],
   "source": [
    "q = QuantumRegister(2)\n",
    "c = ClassicalRegister(2)\n",
    "qc = QuantumCircuit(q, c)\n",
    "\n",
    "#Create states ( A = diagonal.H_2.diagonal.swap )\n",
    "r = rand.randint(1, 4)\n",
    "if(r == 2):\n",
    "    qc.x(q[1])\n",
    "elif(r == 3):\n",
    "    qc.x(q[0])\n",
    "elif(r == 4):\n",
    "    qc.x(q)\n",
    "qc.barrier()\n",
    "qc.swap(q[0], q[1]) #swap\n",
    "qc.x(q)             #diagonal\n",
    "qc.cz(q[0], q[1])\n",
    "qc.x(q)\n",
    "qc.h(q)             #H_2\n",
    "qc.x(q)             #diagonal\n",
    "qc.cz(q[0], q[1])\n",
    "qc.x(q)\n",
    "qc.barrier()\n",
    "\n",
    "#Distinguish states\n",
    "qc.swap(q[0], q[1]) #swap\n",
    "qc.x(q)             #diagonal\n",
    "qc.cz(q[0], q[1])\n",
    "qc.x(q)\n",
    "qc.h(q)             #H_2\n",
    "qc.x(q)             #diagonal\n",
    "qc.cz(q[0], q[1])\n",
    "qc.x(q)\n",
    "qc.barrier()\n",
    "\n",
    "qc.swap(q[0], q[1])\n",
    "qc.measure(q, c)\n",
    "\n",
    "qc.draw(output='mpl')"
   ]
  },
  {
   "cell_type": "code",
   "execution_count": null,
   "metadata": {},
   "outputs": [],
   "source": [
    "simulator = Aer.get_backend('qasm_simulator')\n",
    "result = execute(qc, simulator).result()\n",
    "counts = result.get_counts()\n",
    "plot_histogram(counts)\n",
    "#S_xx, where xx is given by the histogram below"
   ]
  },
  {
   "cell_type": "code",
   "execution_count": null,
   "metadata": {},
   "outputs": [],
   "source": []
  }
 ],
 "metadata": {
  "kernelspec": {
   "display_name": "Python 3",
   "language": "python",
   "name": "python3"
  },
  "language_info": {
   "codemirror_mode": {
    "name": "ipython",
    "version": 3
   },
   "file_extension": ".py",
   "mimetype": "text/x-python",
   "name": "python",
   "nbconvert_exporter": "python",
   "pygments_lexer": "ipython3",
   "version": "3.6.9"
  }
 },
 "nbformat": 4,
 "nbformat_minor": 4
}
