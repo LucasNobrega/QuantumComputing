{
 "cells": [
  {
   "cell_type": "code",
   "execution_count": null,
   "metadata": {},
   "outputs": [],
   "source": [
    "from qiskit import *\n",
    "%matplotlib inline\n",
    "from qiskit.visualization import plot_histogram"
   ]
  },
  {
   "cell_type": "code",
   "execution_count": null,
   "metadata": {},
   "outputs": [],
   "source": [
    "x = input()\n",
    "b = input()\n",
    "\n",
    "qc = QuantumCircuit(2*len(x), 2*len(x))\n",
    "\n",
    "#Prepare the x qubits\n",
    "for i in range(0, len(x)):\n",
    "    if x[i] == '1':\n",
    "        qc.x(i)\n",
    "qc.barrier()\n",
    "\n",
    "#Apply Oracle (f(x) XOR qc[len(x):])\n",
    "for i in range(0, len(b)):\n",
    "    if b[i] == '1':\n",
    "        qc.cx(i, len(x)+i)\n",
    "\n",
    "qc. barrier()\n",
    "N = 2*len(x)\n",
    "for i in range(int(N/2)):\n",
    "    if i != N-1-i:\n",
    "        qc.swap(i, N-1-i)\n",
    "qc.barrier()\n",
    "\n",
    "for i in range(0, 2*len(x)):\n",
    "    qc.measure(i, i)\n",
    "    \n",
    "qc.draw(output='mpl')"
   ]
  },
  {
   "cell_type": "code",
   "execution_count": null,
   "metadata": {},
   "outputs": [],
   "source": [
    "simulator = Aer.get_backend('qasm_simulator')\n",
    "result = execute(qc, simulator).result()\n",
    "counts = result.get_counts()\n",
    "plot_histogram(counts)"
   ]
  },
  {
   "cell_type": "code",
   "execution_count": null,
   "metadata": {},
   "outputs": [],
   "source": []
  }
 ],
 "metadata": {
  "kernelspec": {
   "display_name": "Python 3",
   "language": "python",
   "name": "python3"
  },
  "language_info": {
   "codemirror_mode": {
    "name": "ipython",
    "version": 3
   },
   "file_extension": ".py",
   "mimetype": "text/x-python",
   "name": "python",
   "nbconvert_exporter": "python",
   "pygments_lexer": "ipython3",
   "version": "3.6.9"
  }
 },
 "nbformat": 4,
 "nbformat_minor": 4
}
