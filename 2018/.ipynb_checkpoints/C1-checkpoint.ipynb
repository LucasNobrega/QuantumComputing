{
 "cells": [
  {
   "cell_type": "code",
   "execution_count": 4,
   "metadata": {},
   "outputs": [],
   "source": [
    "from qiskit import *\n",
    "import random as rand\n",
    "import numpy as np"
   ]
  },
  {
   "cell_type": "code",
   "execution_count": 24,
   "metadata": {},
   "outputs": [
    {
     "name": "stdout",
     "output_type": "stream",
     "text": [
      "accuracy: 0.881000\n"
     ]
    }
   ],
   "source": [
    "n = 1000\n",
    "correct = 0\n",
    "for i in range(0, n):\n",
    "    before = rand.randint(0,1)\n",
    "    \n",
    "    q = QuantumRegister(1)\n",
    "    c = ClassicalRegister(1)\n",
    "    qc = QuantumCircuit(q, c)\n",
    "    \n",
    "    #Prepare the state |0> or |+> with prob 1/2 for each\n",
    "    #print(before)\n",
    "    if before == 1:\n",
    "        qc.h(q[0])\n",
    "    \n",
    "    qc.ry(np.pi/4, q[0])\n",
    "    qc.measure(q, c)\n",
    "    \n",
    "    simulator = Aer.get_backend('qasm_simulator')\n",
    "    result = execute(qc, simulator, shots = 1).result()\n",
    "    counts = result.get_counts()\n",
    "    #print(counts)\n",
    "    if('1' in counts and before == 1)or('0' in counts and before == 0):\n",
    "        #print('correct')\n",
    "        correct += 1\n",
    "    #else:\n",
    "        #print('wrong')\n",
    "        \n",
    "print('accuracy: %f'  %(float(correct)/float(n)))"
   ]
  },
  {
   "cell_type": "code",
   "execution_count": null,
   "metadata": {},
   "outputs": [],
   "source": []
  }
 ],
 "metadata": {
  "kernelspec": {
   "display_name": "Python 3",
   "language": "python",
   "name": "python3"
  },
  "language_info": {
   "codemirror_mode": {
    "name": "ipython",
    "version": 3
   },
   "file_extension": ".py",
   "mimetype": "text/x-python",
   "name": "python",
   "nbconvert_exporter": "python",
   "pygments_lexer": "ipython3",
   "version": "3.6.9"
  }
 },
 "nbformat": 4,
 "nbformat_minor": 4
}
