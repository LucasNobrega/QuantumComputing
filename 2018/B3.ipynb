{
 "cells": [
  {
   "cell_type": "code",
   "execution_count": null,
   "metadata": {},
   "outputs": [],
   "source": [
    "from qiskit import *\n",
    "import random\n",
    "from qiskit.visualization import plot_histogram"
   ]
  },
  {
   "cell_type": "code",
   "execution_count": null,
   "metadata": {},
   "outputs": [],
   "source": [
    "#Declare the circuit\n",
    "q = QuantumRegister(2)\n",
    "c = ClassicalRegister(2)\n",
    "qc = QuantumCircuit(q, c)\n",
    "\n",
    "#Prepare one of the four states\n",
    "r = random.randint(1, 4)\n",
    "#print(r)\n",
    "if r == 1:\n",
    "    qc.h(q)\n",
    "elif r == 2:\n",
    "    qc.h(q)\n",
    "    qc.z(q[1])\n",
    "elif r == 3:\n",
    "    qc.x(q)\n",
    "    qc.h(q)\n",
    "    qc.z(q[1])\n",
    "else:\n",
    "    qc.x(q)\n",
    "    qc.h(q)\n",
    "qc.barrier()\n",
    "#Distinguish the states\n",
    "qc.h(q)\n",
    "qc.measure(q, c)\n",
    "\n",
    "\n",
    "\n",
    "qc.draw(output='mpl')"
   ]
  },
  {
   "cell_type": "code",
   "execution_count": null,
   "metadata": {},
   "outputs": [],
   "source": [
    "simulator = Aer.get_backend('qasm_simulator')\n",
    "result = execute(qc, simulator).result()\n",
    "counts = result.get_counts()\n",
    "state = list(counts.keys())\n",
    "print('The state of the system was S_%s (in binary)' %(state[0]))\n",
    "plot_histogram(counts)"
   ]
  },
  {
   "cell_type": "code",
   "execution_count": null,
   "metadata": {},
   "outputs": [],
   "source": []
  }
 ],
 "metadata": {
  "kernelspec": {
   "display_name": "Python 3",
   "language": "python",
   "name": "python3"
  },
  "language_info": {
   "codemirror_mode": {
    "name": "ipython",
    "version": 3
   },
   "file_extension": ".py",
   "mimetype": "text/x-python",
   "name": "python",
   "nbconvert_exporter": "python",
   "pygments_lexer": "ipython3",
   "version": "3.6.9"
  }
 },
 "nbformat": 4,
 "nbformat_minor": 4
}
