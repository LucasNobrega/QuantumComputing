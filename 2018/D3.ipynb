{
 "cells": [
  {
   "cell_type": "code",
   "execution_count": null,
   "metadata": {},
   "outputs": [],
   "source": [
    "from qiskit import *\n",
    "import random\n",
    "from qiskit.visualization import *"
   ]
  },
  {
   "cell_type": "code",
   "execution_count": null,
   "metadata": {},
   "outputs": [],
   "source": [
    "#maj(x1, x2, x3) = (x1.x2) XOR (x1.x3) XOR (x2.x3)\n",
    "\n",
    "qc = QuantumCircuit(4, 4)\n",
    "\n",
    "#Prepare the first 2 qubits randomly\n",
    "r = random.randint(0, 3)\n",
    "if r == 1:\n",
    "    qc.x(0)\n",
    "elif r == 2:\n",
    "    qc.x(0)\n",
    "    qc.x(1)\n",
    "elif r == 3:\n",
    "    qc.x(0)\n",
    "    qc.x(1)\n",
    "    qc.x(2)\n",
    "\n",
    "\n",
    "qc.ccx(0, 1, 3)\n",
    "qc.ccx(0, 2, 3)\n",
    "qc.ccx(1, 2, 3)\n",
    "\n",
    "qc.measure(3, 3)\n",
    "qc.draw(output='mpl')"
   ]
  },
  {
   "cell_type": "code",
   "execution_count": null,
   "metadata": {},
   "outputs": [],
   "source": [
    "simulator = Aer.get_backend('qasm_simulator')\n",
    "result = execute(qc, simulator).result()\n",
    "counts = result.get_counts()\n",
    "plot_histogram(counts)"
   ]
  }
 ],
 "metadata": {
  "kernelspec": {
   "display_name": "Python 3",
   "language": "python",
   "name": "python3"
  },
  "language_info": {
   "codemirror_mode": {
    "name": "ipython",
    "version": 3
   },
   "file_extension": ".py",
   "mimetype": "text/x-python",
   "name": "python",
   "nbconvert_exporter": "python",
   "pygments_lexer": "ipython3",
   "version": "3.6.9"
  }
 },
 "nbformat": 4,
 "nbformat_minor": 4
}
