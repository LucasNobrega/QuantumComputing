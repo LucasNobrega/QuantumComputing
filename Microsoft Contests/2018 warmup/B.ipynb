{
 "cells": [
  {
   "cell_type": "code",
   "execution_count": 1,
   "metadata": {},
   "outputs": [],
   "source": [
    "from qiskit import *"
   ]
  },
  {
   "cell_type": "code",
   "execution_count": 2,
   "metadata": {},
   "outputs": [
    {
     "data": {
      "text/plain": [
       "qiskit.circuit.quantumregister.QuantumRegister"
      ]
     },
     "execution_count": 2,
     "metadata": {},
     "output_type": "execute_result"
    }
   ],
   "source": [
    "q = QuantumRegister(2)\n",
    "circuit = QuantumCircuit(q)\n",
    "%matplotlib inline\n",
    "type(q)"
   ]
  },
  {
   "cell_type": "code",
   "execution_count": 3,
   "metadata": {},
   "outputs": [],
   "source": [
    "#Takes a circuit with 2 qubits and creates one of the Bells states according to the index\n",
    "def Bell_index(circuit : qiskit.circuit.quantumcircuit.QuantumCircuit, index : int):\n",
    "    if(index == 0):               #(|00> + |11>)/sqrt(2)\n",
    "        circuit.h(q[0])\n",
    "        circuit.cx(q[0], q[1])\n",
    "    elif(index == 1):             #(|00> - |11>)/sqrt(2)\n",
    "        circuit.x(q[0])\n",
    "        circuit.h(q[0])\n",
    "        circuit.cx(q[0], q[1])\n",
    "    elif(index == 2):             #(|01> + |10>)/sqrt(2)\n",
    "        circuit.h(q[0])\n",
    "        circuit.x(q[0])\n",
    "        #circuit.x(q[1])\n",
    "        circuit.cx(q[0], q[1])\n",
    "        circuit.x(q[0])\n",
    "    elif(index == 3):             #(|01> - |10>)/sqrt(2)\n",
    "        circuit.x(q[0])\n",
    "        #circuit.x(q[1])\n",
    "        circuit.h(q[0])\n",
    "        circuit.x(q[0])\n",
    "        circuit.cx(q[0], q[1])\n",
    "        circuit.x(q[0])"
   ]
  },
  {
   "cell_type": "code",
   "execution_count": 4,
   "metadata": {},
   "outputs": [
    {
     "name": "stdout",
     "output_type": "stream",
     "text": [
      "3\n"
     ]
    }
   ],
   "source": [
    "index = int(input())"
   ]
  },
  {
   "cell_type": "code",
   "execution_count": 5,
   "metadata": {},
   "outputs": [
    {
     "data": {
      "image/png": "[encoded data removed]",
      "text/plain": [
       "<Figure size 490.028x144.48 with 1 Axes>"
      ]
     },
     "execution_count": 5,
     "metadata": {},
     "output_type": "execute_result"
    }
   ],
   "source": [
    "Bell_index(circuit, index)\n",
    "circuit.draw(output='mpl')"
   ]
  },
  {
   "cell_type": "code",
   "execution_count": 6,
   "metadata": {},
   "outputs": [
    {
     "name": "stdout",
     "output_type": "stream",
     "text": [
      "[ 0.        +0.00000000e+00j -0.70710678+8.65956056e-17j\n",
      "  0.70710678-8.65956056e-17j  0.        +0.00000000e+00j]\n"
     ]
    }
   ],
   "source": [
    "simulator = Aer.get_backend('statevector_simulator')\n",
    "\n",
    "#Execute\n",
    "result = execute(circuit, simulator).result()\n",
    "state = result.get_statevector()\n",
    "print(state)"
   ]
  },
  {
   "cell_type": "code",
   "execution_count": 7,
   "metadata": {},
   "outputs": [
    {
     "data": {
      "text/plain": [
       "qiskit.providers.aer.backends.statevector_simulator.StatevectorSimulator"
      ]
     },
     "execution_count": 7,
     "metadata": {},
     "output_type": "execute_result"
    }
   ],
   "source": [
    "type(simulator)"
   ]
  },
  {
   "cell_type": "markdown",
   "metadata": {},
   "source": []
  }
 ],
 "metadata": {
  "kernelspec": {
   "display_name": "Python 3",
   "language": "python",
   "name": "python3"
  },
  "language_info": {
   "codemirror_mode": {
    "name": "ipython",
    "version": 3
   },
   "file_extension": ".py",
   "mimetype": "text/x-python",
   "name": "python",
   "nbconvert_exporter": "python",
   "pygments_lexer": "ipython3",
   "version": "3.6.9"
  }
 },
 "nbformat": 4,
 "nbformat_minor": 4
}
