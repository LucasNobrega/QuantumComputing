{
 "cells": [
  {
   "cell_type": "code",
   "execution_count": null,
   "metadata": {},
   "outputs": [],
   "source": [
    "from qiskit import *\n",
    "import random\n",
    "from qiskit.visualization import plot_histogram"
   ]
  },
  {
   "cell_type": "code",
   "execution_count": null,
   "metadata": {},
   "outputs": [],
   "source": [
    "n = 5\n",
    "b = ''\n",
    "\n",
    "q = QuantumRegister(n+1)\n",
    "c = ClassicalRegister(n+1)\n",
    "qc = QuantumCircuit(q, c)\n",
    "\n",
    "for i in range(0, n):\n",
    "    b += str(random.randint(0, 1))\n",
    "\n",
    "qc.x(q[n])\n",
    "qc.h(q)\n",
    "\n",
    "qc.barrier()\n",
    "#Apply Oracle (f(x) XOR qc[n])\n",
    "for i in range(0, len(b)):\n",
    "    if b[i] == '1':\n",
    "        qc.cx(i, len(b))\n",
    "qc.barrier()\n",
    "        \n",
    "qc.h(q)\n",
    "qc.barrier()\n",
    "qc.measure(q, c)\n",
    "qc.draw()"
   ]
  },
  {
   "cell_type": "code",
   "execution_count": null,
   "metadata": {},
   "outputs": [],
   "source": [
    "print(b)\n",
    "simulator = Aer.get_backend('qasm_simulator')\n",
    "result = execute(qc, simulator).result()\n",
    "counts = result.get_counts()\n",
    "plot_histogram(counts)"
   ]
  },
  {
   "cell_type": "code",
   "execution_count": null,
   "metadata": {},
   "outputs": [],
   "source": []
  }
 ],
 "metadata": {
  "kernelspec": {
   "display_name": "Python 3",
   "language": "python",
   "name": "python3"
  },
  "language_info": {
   "codemirror_mode": {
    "name": "ipython",
    "version": 3
   },
   "file_extension": ".py",
   "mimetype": "text/x-python",
   "name": "python",
   "nbconvert_exporter": "python",
   "pygments_lexer": "ipython3",
   "version": "3.6.9"
  }
 },
 "nbformat": 4,
 "nbformat_minor": 4
}
