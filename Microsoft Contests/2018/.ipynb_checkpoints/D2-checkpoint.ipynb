{
 "cells": [
  {
   "cell_type": "code",
   "execution_count": null,
   "metadata": {},
   "outputs": [],
   "source": [
    "from qiskit import *\n",
    "%matplotlib inline\n",
    "from qiskit.visualization import plot_histogram"
   ]
  },
  {
   "cell_type": "code",
   "execution_count": null,
   "metadata": {},
   "outputs": [],
   "source": [
    "x = input()\n",
    "b = input()\n",
    "\n",
    "qc = QuantumCircuit(len(x)+1, 1)\n",
    "\n",
    "#Prepare the x qubits\n",
    "for i in range(0, len(x)):\n",
    "    if x[i] == '1':\n",
    "        qc.x(i)\n",
    "qc.barrier()\n",
    "\n",
    "#Apply Oracle\n",
    "for i in range(0, len(b)):\n",
    "    if b[i] == '1':\n",
    "        qc.cx(i, len(x))\n",
    "\n",
    "qc.barrier()\n",
    "for i in range(0, len(x)):\n",
    "    qc.x(i)\n",
    "qc.barrier()    \n",
    "for i in range(0, len(b)):\n",
    "    if b[i] == '0':\n",
    "        qc.cx(i, len(x))\n",
    "qc.barrier()\n",
    "for i in range(0, len(x)):\n",
    "    qc.x(i)\n",
    "    \n",
    "\n",
    "qc. barrier()\n",
    "\n",
    "qc.measure(len(b), 0)\n",
    "qc.draw()"
   ]
  },
  {
   "cell_type": "code",
   "execution_count": null,
   "metadata": {},
   "outputs": [],
   "source": [
    "simulator = Aer.get_backend('qasm_simulator')\n",
    "result = execute(qc, simulator).result()\n",
    "counts = result.get_counts()\n",
    "plot_histogram(counts)"
   ]
  },
  {
   "cell_type": "code",
   "execution_count": null,
   "metadata": {},
   "outputs": [],
   "source": []
  }
 ],
 "metadata": {
  "kernelspec": {
   "display_name": "Python 3",
   "language": "python",
   "name": "python3"
  },
  "language_info": {
   "codemirror_mode": {
    "name": "ipython",
    "version": 3
   },
   "file_extension": ".py",
   "mimetype": "text/x-python",
   "name": "python",
   "nbconvert_exporter": "python",
   "pygments_lexer": "ipython3",
   "version": "3.6.9"
  }
 },
 "nbformat": 4,
 "nbformat_minor": 4
}
