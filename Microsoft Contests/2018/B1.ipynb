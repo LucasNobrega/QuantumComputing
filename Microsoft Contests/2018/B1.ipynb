{
 "cells": [
  {
   "cell_type": "code",
   "execution_count": null,
   "metadata": {},
   "outputs": [],
   "source": [
    "from qiskit import *\n",
    "%matplotlib inline\n",
    "from qiskit.visualization import plot_histogram\n",
    "import random\n",
    "import numpy as np"
   ]
  },
  {
   "cell_type": "code",
   "execution_count": null,
   "metadata": {},
   "outputs": [],
   "source": [
    "N = int(input())\n",
    "q = QuantumRegister(N)\n",
    "c = ClassicalRegister(N)\n",
    "qc = QuantumCircuit(q, c)\n",
    "\n",
    "\n",
    "if random.randint(0,1) == 1:\n",
    "    qc.ry(2.0*np.arcsin(np.sqrt(1.0/float(N))), q[0])\n",
    "    for i in range(1, N):\n",
    "        qc.barrier()\n",
    "        for j in range(0, i):\n",
    "            qc.x(q[j])\n",
    "        qc.mcrz(-np.pi/2, q[0:i], q[i])\n",
    "        qc.mcrx(2.0 * np.arcsin(np.sqrt(1.0/float(N - i))), q[0:i], q[i])\n",
    "        qc.mcrz(np.pi/2, q[0:i], q[i])\n",
    "        for j in range(0, i):\n",
    "            qc.x(q[j])\n",
    "\n",
    "    qc.barrier()\n",
    "    for i in range(int(N/2)):\n",
    "        if i != N-1-i:\n",
    "            qc.swap(i, N-1-i)\n",
    "    qc.barrier()\n",
    "\n",
    "qc.measure(q, c)\n",
    "qc.draw(output='mpl')"
   ]
  },
  {
   "cell_type": "code",
   "execution_count": null,
   "metadata": {},
   "outputs": [],
   "source": [
    "simulator = Aer.get_backend('qasm_simulator')\n",
    "result = execute(qc, simulator).result()\n",
    "counts = result.get_counts()\n",
    "if len(counts) == 1:\n",
    "    print('The state was |0>^N')\n",
    "else:\n",
    "    print('The state was |W>^N')\n",
    "plot_histogram(counts)"
   ]
  },
  {
   "cell_type": "code",
   "execution_count": null,
   "metadata": {},
   "outputs": [],
   "source": []
  }
 ],
 "metadata": {
  "kernelspec": {
   "display_name": "Python 3",
   "language": "python",
   "name": "python3"
  },
  "language_info": {
   "codemirror_mode": {
    "name": "ipython",
    "version": 3
   },
   "file_extension": ".py",
   "mimetype": "text/x-python",
   "name": "python",
   "nbconvert_exporter": "python",
   "pygments_lexer": "ipython3",
   "version": "3.6.9"
  }
 },
 "nbformat": 4,
 "nbformat_minor": 4
}
