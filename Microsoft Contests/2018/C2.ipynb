{
 "cells": [
  {
   "cell_type": "code",
   "execution_count": null,
   "metadata": {},
   "outputs": [],
   "source": [
    "from qiskit import *\n",
    "import numpy as np\n",
    "import random"
   ]
  },
  {
   "cell_type": "code",
   "execution_count": null,
   "metadata": {},
   "outputs": [],
   "source": [
    "plus = 0\n",
    "zero = 0\n",
    "minus1 = 0\n",
    "n = 10000\n",
    "error_check = 0\n",
    "for i in range(n):\n",
    "    qc = QuantumCircuit(1, 1)\n",
    "    \n",
    "    #Prepare a state\n",
    "    state = random.randint(0, 1)\n",
    "    if state == 1:\n",
    "        qc.h(0)\n",
    "    qc.barrier()\n",
    "    \n",
    "    #Measure\n",
    "    basis = random.randint(0, 1)\n",
    "    if basis == 1:\n",
    "        qc.h(0)\n",
    "    qc.measure(0, 0)\n",
    "    \n",
    "    #Execute the circuit\n",
    "    simulator = Aer.get_backend('qasm_simulator')\n",
    "    result = execute(qc, simulator, shots=1).result()\n",
    "    counts = result.get_counts()\n",
    "    \n",
    "    #Check the state\n",
    "    if basis == 0 and '1' in counts:\n",
    "        plus += 1\n",
    "    elif basis == 1 and '1' in counts:\n",
    "        zero += 1\n",
    "    else:\n",
    "        minus1 += 1\n",
    "    \n",
    "        \n",
    "print('|+> : ', float(plus)/float(n))\n",
    "print('|0> : ', float(zero)/float(n))\n",
    "print('ind : ', float(minus1)/float(n))"
   ]
  },
  {
   "cell_type": "code",
   "execution_count": null,
   "metadata": {},
   "outputs": [],
   "source": []
  }
 ],
 "metadata": {
  "kernelspec": {
   "display_name": "Python 3",
   "language": "python",
   "name": "python3"
  },
  "language_info": {
   "codemirror_mode": {
    "name": "ipython",
    "version": 3
   },
   "file_extension": ".py",
   "mimetype": "text/x-python",
   "name": "python",
   "nbconvert_exporter": "python",
   "pygments_lexer": "ipython3",
   "version": "3.6.9"
  }
 },
 "nbformat": 4,
 "nbformat_minor": 4
}
