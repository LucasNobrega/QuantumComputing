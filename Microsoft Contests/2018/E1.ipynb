{
 "cells": [
  {
   "cell_type": "code",
   "execution_count": 2,
   "metadata": {},
   "outputs": [],
   "source": [
    "from qiskit import *\n",
    "import random\n",
    "from qiskit.visualization import plot_histogram"
   ]
  },
  {
   "cell_type": "code",
   "execution_count": 3,
   "metadata": {},
   "outputs": [
    {
     "data": {
      "text/html": [
       "<pre style=\"word-wrap: normal;white-space: pre;background: #fff0;line-height: 1.1;font-family: &quot;Courier New&quot;,Courier,monospace\">      ┌───┐      ░                 ░ ┌───┐ ░ ┌─┐               \n",
       "q0_0: ┤ H ├──────░─────────────────░─┤ H ├─░─┤M├───────────────\n",
       "      ├───┤      ░                 ░ ├───┤ ░ └╥┘┌─┐            \n",
       "q0_1: ┤ H ├──────░───■─────────────░─┤ H ├─░──╫─┤M├────────────\n",
       "      ├───┤      ░   │             ░ ├───┤ ░  ║ └╥┘┌─┐         \n",
       "q0_2: ┤ H ├──────░───┼─────────────░─┤ H ├─░──╫──╫─┤M├─────────\n",
       "      ├───┤      ░   │             ░ ├───┤ ░  ║  ║ └╥┘┌─┐      \n",
       "q0_3: ┤ H ├──────░───┼────■────────░─┤ H ├─░──╫──╫──╫─┤M├──────\n",
       "      ├───┤      ░   │    │        ░ ├───┤ ░  ║  ║  ║ └╥┘┌─┐   \n",
       "q0_4: ┤ H ├──────░───┼────┼────■───░─┤ H ├─░──╫──╫──╫──╫─┤M├───\n",
       "      ├───┤┌───┐ ░ ┌─┴─┐┌─┴─┐┌─┴─┐ ░ ├───┤ ░  ║  ║  ║  ║ └╥┘┌─┐\n",
       "q0_5: ┤ X ├┤ H ├─░─┤ X ├┤ X ├┤ X ├─░─┤ H ├─░──╫──╫──╫──╫──╫─┤M├\n",
       "      └───┘└───┘ ░ └───┘└───┘└───┘ ░ └───┘ ░  ║  ║  ║  ║  ║ └╥┘\n",
       "c0_0: ════════════════════════════════════════╩══╬══╬══╬══╬══╬═\n",
       "                                                 ║  ║  ║  ║  ║ \n",
       "c0_1: ═══════════════════════════════════════════╩══╬══╬══╬══╬═\n",
       "                                                    ║  ║  ║  ║ \n",
       "c0_2: ══════════════════════════════════════════════╩══╬══╬══╬═\n",
       "                                                       ║  ║  ║ \n",
       "c0_3: ═════════════════════════════════════════════════╩══╬══╬═\n",
       "                                                          ║  ║ \n",
       "c0_4: ════════════════════════════════════════════════════╩══╬═\n",
       "                                                             ║ \n",
       "c0_5: ═══════════════════════════════════════════════════════╩═\n",
       "                                                               </pre>"
      ],
      "text/plain": [
       "      ┌───┐      ░                 ░ ┌───┐ ░ ┌─┐               \n",
       "q0_0: ┤ H ├──────░─────────────────░─┤ H ├─░─┤M├───────────────\n",
       "      ├───┤      ░                 ░ ├───┤ ░ └╥┘┌─┐            \n",
       "q0_1: ┤ H ├──────░───■─────────────░─┤ H ├─░──╫─┤M├────────────\n",
       "      ├───┤      ░   │             ░ ├───┤ ░  ║ └╥┘┌─┐         \n",
       "q0_2: ┤ H ├──────░───┼─────────────░─┤ H ├─░──╫──╫─┤M├─────────\n",
       "      ├───┤      ░   │             ░ ├───┤ ░  ║  ║ └╥┘┌─┐      \n",
       "q0_3: ┤ H ├──────░───┼────■────────░─┤ H ├─░──╫──╫──╫─┤M├──────\n",
       "      ├───┤      ░   │    │        ░ ├───┤ ░  ║  ║  ║ └╥┘┌─┐   \n",
       "q0_4: ┤ H ├──────░───┼────┼────■───░─┤ H ├─░──╫──╫──╫──╫─┤M├───\n",
       "      ├───┤┌───┐ ░ ┌─┴─┐┌─┴─┐┌─┴─┐ ░ ├───┤ ░  ║  ║  ║  ║ └╥┘┌─┐\n",
       "q0_5: ┤ X ├┤ H ├─░─┤ X ├┤ X ├┤ X ├─░─┤ H ├─░──╫──╫──╫──╫──╫─┤M├\n",
       "      └───┘└───┘ ░ └───┘└───┘└───┘ ░ └───┘ ░  ║  ║  ║  ║  ║ └╥┘\n",
       "c0_0: ════════════════════════════════════════╩══╬══╬══╬══╬══╬═\n",
       "                                                 ║  ║  ║  ║  ║ \n",
       "c0_1: ═══════════════════════════════════════════╩══╬══╬══╬══╬═\n",
       "                                                    ║  ║  ║  ║ \n",
       "c0_2: ══════════════════════════════════════════════╩══╬══╬══╬═\n",
       "                                                       ║  ║  ║ \n",
       "c0_3: ═════════════════════════════════════════════════╩══╬══╬═\n",
       "                                                          ║  ║ \n",
       "c0_4: ════════════════════════════════════════════════════╩══╬═\n",
       "                                                             ║ \n",
       "c0_5: ═══════════════════════════════════════════════════════╩═\n",
       "                                                               "
      ]
     },
     "execution_count": 3,
     "metadata": {},
     "output_type": "execute_result"
    }
   ],
   "source": [
    "n = 5\n",
    "b = ''\n",
    "\n",
    "q = QuantumRegister(n+1)\n",
    "c = ClassicalRegister(n+1)\n",
    "qc = QuantumCircuit(q, c)\n",
    "\n",
    "for i in range(0, n):\n",
    "    b += str(random.randint(0, 1))\n",
    "\n",
    "qc.x(q[n])\n",
    "qc.h(q)\n",
    "\n",
    "qc.barrier()\n",
    "#Apply Oracle (f(x) XOR qc[n])\n",
    "for i in range(0, len(b)):\n",
    "    if b[i] == '1':\n",
    "        qc.cx(q[i], q[n])\n",
    "qc.barrier()\n",
    "        \n",
    "qc.h(q)\n",
    "qc.barrier()\n",
    "qc.measure(q, c)\n",
    "qc.draw()"
   ]
  },
  {
   "cell_type": "code",
   "execution_count": 4,
   "metadata": {},
   "outputs": [
    {
     "name": "stdout",
     "output_type": "stream",
     "text": [
      "01011\n"
     ]
    },
    {
     "data": {
      "image/png": "[encoded data removed]",
      "text/plain": [
       "<Figure size 504x360 with 1 Axes>"
      ]
     },
     "execution_count": 4,
     "metadata": {},
     "output_type": "execute_result"
    }
   ],
   "source": [
    "print(b)\n",
    "simulator = Aer.get_backend('qasm_simulator')\n",
    "result = execute(qc, simulator).result()\n",
    "counts = result.get_counts()\n",
    "plot_histogram(counts)"
   ]
  },
  {
   "cell_type": "code",
   "execution_count": null,
   "metadata": {},
   "outputs": [],
   "source": []
  }
 ],
 "metadata": {
  "kernelspec": {
   "display_name": "Python 3",
   "language": "python",
   "name": "python3"
  },
  "language_info": {
   "codemirror_mode": {
    "name": "ipython",
    "version": 3
   },
   "file_extension": ".py",
   "mimetype": "text/x-python",
   "name": "python",
   "nbconvert_exporter": "python",
   "pygments_lexer": "ipython3",
   "version": "3.6.9"
  }
 },
 "nbformat": 4,
 "nbformat_minor": 4
}
